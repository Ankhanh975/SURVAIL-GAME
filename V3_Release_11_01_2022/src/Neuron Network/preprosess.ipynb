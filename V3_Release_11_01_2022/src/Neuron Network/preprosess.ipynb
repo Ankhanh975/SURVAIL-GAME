{
 "cells": [
  {
   "cell_type": "code",
   "execution_count": 36,
   "metadata": {},
   "outputs": [],
   "source": [
    "# Job: Get all 50 .txt files from download\n",
    "# Merge\n",
    "# normalized\n",
    "# Load to data2.csv file\n",
    "\n",
    "import pandas"
   ]
  },
  {
   "cell_type": "code",
   "execution_count": 37,
   "metadata": {},
   "outputs": [],
   "source": [
    "# all = \"\"\n",
    "# for x in range(1, 35):\n",
    "#     f = open(f\"Data/data ({x}).txt\", \"r\")\n",
    "#     all+= f.read()+\"\\n\"\n",
    "\n",
    "# print(all)\n",
    "def mapf(x):\n",
    "    in_min = 18\n",
    "    in_max = 65\n",
    "    out_min = 0\n",
    "    out_max = 1\n",
    "    return (x - in_min) * (out_max - out_min) / (in_max - in_min) + out_min\n"
   ]
  },
  {
   "cell_type": "code",
   "execution_count": 38,
   "metadata": {},
   "outputs": [
    {
     "name": "stdout",
     "output_type": "stream",
     "text": [
      "            dis      ang1      ang2  collision\n",
      "0      0.595745  0.672222  0.375000          1\n",
      "1      0.638298  0.952778  0.236111          1\n",
      "2      0.340426  0.305556  0.488889          1\n",
      "3      0.319149  0.613889  0.205556          1\n",
      "4      0.872340  0.077778  0.691667          1\n",
      "...         ...       ...       ...        ...\n",
      "83345  0.574468  0.905556  0.447222          1\n",
      "83346  0.531915  0.172222  0.747222          1\n",
      "83347  0.297872  0.144444  0.936111          1\n",
      "83348  0.702128  0.619444  0.133333          0\n",
      "83349  0.531915  0.752778  0.913889          1\n",
      "\n",
      "[83350 rows x 4 columns]\n"
     ]
    }
   ],
   "source": [
    "df = pandas.read_csv('Data/data.csv')\n",
    "df[\"ang1\"] = df[\"ang1\"] / 360\n",
    "df[\"ang2\"] = df[\"ang2\"] / 360\n",
    "df['dis'] = df['dis'].map(mapf)\n",
    "\n",
    "print(df)\n",
    "df.to_csv('Data/data2.csv')\n"
   ]
  },
  {
   "cell_type": "code",
   "execution_count": 41,
   "metadata": {},
   "outputs": [
    {
     "data": {
      "text/plain": [
       "77022"
      ]
     },
     "execution_count": 41,
     "metadata": {},
     "output_type": "execute_result"
    }
   ],
   "source": [
    "df[\"collision\"].sum()\n",
    "77022 / 83352"
   ]
  },
  {
   "cell_type": "code",
   "execution_count": 42,
   "metadata": {},
   "outputs": [
    {
     "data": {
      "text/plain": [
       "0.9240570112294846"
      ]
     },
     "execution_count": 42,
     "metadata": {},
     "output_type": "execute_result"
    }
   ],
   "source": []
  }
 ],
 "metadata": {
  "interpreter": {
   "hash": "684b1123683431d89d3bfe9a89cc763215f4b8cd94b4aba1fb40ad45ff7c8b41"
  },
  "kernelspec": {
   "display_name": "Python 3.7.4 64-bit",
   "name": "python3"
  },
  "language_info": {
   "codemirror_mode": {
    "name": "ipython",
    "version": 3
   },
   "file_extension": ".py",
   "mimetype": "text/x-python",
   "name": "python",
   "nbconvert_exporter": "python",
   "pygments_lexer": "ipython3",
   "version": "3.7.4"
  },
  "orig_nbformat": 4
 },
 "nbformat": 4,
 "nbformat_minor": 2
}
